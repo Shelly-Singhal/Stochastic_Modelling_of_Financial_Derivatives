{
  "nbformat": 4,
  "nbformat_minor": 0,
  "metadata": {
    "colab": {
      "provenance": []
    },
    "kernelspec": {
      "name": "python3",
      "display_name": "Python 3"
    },
    "language_info": {
      "name": "python"
    }
  },
  "cells": [
    {
      "cell_type": "markdown",
      "source": [
        "**Practical Problem- Assignment 1**"
      ],
      "metadata": {
        "id": "qRmWm-7EOzel"
      }
    },
    {
      "cell_type": "markdown",
      "source": [
        "**Explanation**: The aim of the program is to count the number of paths from (0, 0) to (n, n) without crossing the line y = x.\n",
        "\n",
        "Here we used a 2D matrix (dp[x][y]) is used to store the number of valid paths from (0, 0) to (x, y).\n",
        "\n",
        "Firstly we initialized all dp[x][y] values to 0 and set dp[0][0] = 1 (base case)- because if we are not moving at all then number of ways = 1.\n",
        "\n",
        "Then, iterate over all points (x, y) where 0 ≤ y ≤ x ≤ N while Skipping the positions where y > x (these are above the diagonal and invalid).\n",
        "\n",
        "If x > 0, add dp[x-1][y] to dp[x][y] (a step right).\n",
        "\n",
        "If y > 0, add dp[x][y-1] to dp[x][y] (a step up).\n",
        "\n",
        "After filling the matrix, dp[n][n] will give us the number of valid paths from (0, 0) to (n, n) for each n.\n",
        "\n",
        "Printing dp[n][n] for all n from 1 to 100 gives us the final result.\n",
        "\n",
        "---\n",
        "\n"
      ],
      "metadata": {
        "id": "vKz_9z61O_ZW"
      }
    },
    {
      "cell_type": "code",
      "source": [
        "MOD = 10**9 + 7\n",
        "N = 100\n",
        "\n",
        "dp = [[0] * (N + 1) for _ in range(N + 1)]\n",
        "dp[0][0] = 1\n",
        "\n",
        "for x in range(N + 1):\n",
        "    for y in range(N + 1):\n",
        "        if y > x:\n",
        "            continue\n",
        "        if x > 0:\n",
        "            dp[x][y] = (dp[x][y] + dp[x - 1][y]) % MOD\n",
        "        if y > 0:\n",
        "            dp[x][y] = (dp[x][y] + dp[x][y - 1]) % MOD\n",
        "\n",
        "for n in range(1, N + 1):\n",
        "    print(f\"P{n} = {dp[n][n]}\")\n"
      ],
      "metadata": {
        "colab": {
          "base_uri": "https://localhost:8080/"
        },
        "id": "UqCpxwgsuov3",
        "outputId": "856b01e9-ebc0-4574-c608-3ad0f9c978a1"
      },
      "execution_count": null,
      "outputs": [
        {
          "output_type": "stream",
          "name": "stdout",
          "text": [
            "P1 = 1\n",
            "P2 = 2\n",
            "P3 = 5\n",
            "P4 = 14\n",
            "P5 = 42\n",
            "P6 = 132\n",
            "P7 = 429\n",
            "P8 = 1430\n",
            "P9 = 4862\n",
            "P10 = 16796\n",
            "P11 = 58786\n",
            "P12 = 208012\n",
            "P13 = 742900\n",
            "P14 = 2674440\n",
            "P15 = 9694845\n",
            "P16 = 35357670\n",
            "P17 = 129644790\n",
            "P18 = 477638700\n",
            "P19 = 767263183\n",
            "P20 = 564120378\n",
            "P21 = 466266852\n",
            "P22 = 482563003\n",
            "P23 = 59611249\n",
            "P24 = 904138301\n",
            "P25 = 946367425\n",
            "P26 = 352943583\n",
            "P27 = 550429273\n",
            "P28 = 949904131\n",
            "P29 = 209635674\n",
            "P30 = 475387402\n",
            "P31 = 937414464\n",
            "P32 = 488309750\n",
            "P33 = 925890214\n",
            "P34 = 459122512\n",
            "P35 = 93302951\n",
            "P36 = 141865378\n",
            "P37 = 966114350\n",
            "P38 = 869670557\n",
            "P39 = 998231628\n",
            "P40 = 602941373\n",
            "P41 = 468488140\n",
            "P42 = 436489089\n",
            "P43 = 4616923\n",
            "P44 = 884518775\n",
            "P45 = 205311759\n",
            "P46 = 837590216\n",
            "P47 = 245662066\n",
            "P48 = 217873312\n",
            "P49 = 765348450\n",
            "P50 = 265470434\n",
            "P51 = 185096680\n",
            "P52 = 323205961\n",
            "P53 = 812467623\n",
            "P54 = 961237645\n",
            "P55 = 63389378\n",
            "P56 = 931095477\n",
            "P57 = 938406495\n",
            "P58 = 709042248\n",
            "P59 = 165264749\n",
            "P60 = 202180493\n",
            "P61 = 143994823\n",
            "P62 = 895598835\n",
            "P63 = 467182928\n",
            "P64 = 887145589\n",
            "P65 = 467932736\n",
            "P66 = 337289196\n",
            "P67 = 848807734\n",
            "P68 = 364899808\n",
            "P69 = 628322100\n",
            "P70 = 685542858\n",
            "P71 = 185042843\n",
            "P72 = 889345934\n",
            "P73 = 458247558\n",
            "P74 = 316330417\n",
            "P75 = 319295576\n",
            "P76 = 44509913\n",
            "P77 = 251538890\n",
            "P78 = 88317157\n",
            "P79 = 171644840\n",
            "P80 = 747939002\n",
            "P81 = 619955577\n",
            "P82 = 784403821\n",
            "P83 = 724443566\n",
            "P84 = 881931175\n",
            "P85 = 861543437\n",
            "P86 = 697101768\n",
            "P87 = 740877392\n",
            "P88 = 452888603\n",
            "P89 = 48028493\n",
            "P90 = 826309900\n",
            "P91 = 773088937\n",
            "P92 = 590866122\n",
            "P93 = 155536848\n",
            "P94 = 391271379\n",
            "P95 = 853131050\n",
            "P96 = 988619170\n",
            "P97 = 608234667\n",
            "P98 = 577894130\n",
            "P99 = 676902861\n",
            "P100 = 558488487\n"
          ]
        }
      ]
    }
  ]
}